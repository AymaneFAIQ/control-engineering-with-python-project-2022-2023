{
 "cells": [
  {
   "cell_type": "markdown",
   "metadata": {
    "tags": []
   },
   "source": [
    "# Wheelchair Control\n",
    "\n",
    "![](images/wheelchair.jpg)"
   ]
  },
  {
   "cell_type": "markdown",
   "metadata": {},
   "source": [
    "### Python Dependencies"
   ]
  },
  {
   "cell_type": "code",
   "execution_count": 1,
   "metadata": {},
   "outputs": [],
   "source": [
    "from numpy import *\n",
    "from numpy.linalg import *\n",
    "\n",
    "from scipy.linalg import *\n",
    "from scipy.integrate import *\n",
    "from scipy.signal import *\n",
    "\n",
    "from matplotlib.pyplot import *\n",
    "from matplotlib.transforms import Affine2D\n",
    "\n",
    "from math import * "
   ]
  },
  {
   "cell_type": "markdown",
   "metadata": {
    "tags": []
   },
   "source": [
    "Step 1 - Wheelchair Planar Model\n",
    "================================"
   ]
  },
  {
   "cell_type": "markdown",
   "metadata": {
    "tags": []
   },
   "source": [
    "### Introduction"
   ]
  },
  {
   "cell_type": "markdown",
   "metadata": {
    "tags": []
   },
   "source": [
    "We consider a simple model of a wheelchair evolving in the plane. It is mainly made of\n",
    "\n",
    "  - A frame ; from above, its most visible component is the seat. We assume that it is a square,\n",
    "\n",
    "  - Two fixed wheels (their orientation with respect to the frame does not change). \n",
    "    They are parallel and located at opposite ends of the seat. \n",
    "    \n",
    "We assume that the seat backrest is on top of the wheels common axis.\n",
    "\n",
    "\n",
    "Let $(0, e_x, e_y)$ be a direct orthonormal frame of the plane. We denote \n",
    "\n",
    "  - $(x, y)$ the coordinates of the wheel axis center in the orthonormal and \n",
    "  - $\\theta$ the angle of the wheels direction with respect to vector $e_x$ ; with $\\theta = 0$ when the front of the wheelchait faces the right ($e_x$) and $\\theta = \\pi/2$ when it faces upwards ($e_y$).\n",
    "\n",
    "  - $\\phi_l$ and $\\phi_r$ the rotation angles of the left and right wheel respectively ; by convention, when these angles increase, the wheelchair moves forward."
   ]
  },
  {
   "cell_type": "markdown",
   "metadata": {
    "tags": []
   },
   "source": [
    "### Parameter Definition"
   ]
  },
  {
   "cell_type": "markdown",
   "metadata": {
    "tags": []
   },
   "source": [
    "From now on, we assume that the seat side length is $L = 50 \\mbox{ cm}$ and the wheel radius is $R_w = 30 \\mbox{ cm}$.\n",
    "\n",
    "🧩 Define the corresponding Python variables `L` and `Rw` (express every length in meters, and more generally in the sequel, always use the [international standard of units](https://en.wikipedia.org/wiki/SI_derived_unit)) for numerical values.\n",
    "\n",
    "<span style=color:red>**Vous utilisez `R_w` au lieu de `Rw`... ça génère une erreur plus loin dans le code, dommage...** </span>"
   ]
  },
  {
   "cell_type": "code",
   "execution_count": 2,
   "metadata": {},
   "outputs": [],
   "source": [
    "L = 50*10**(-2)\n",
    "R_w = 30*10**(-2)"
   ]
  },
  {
   "cell_type": "markdown",
   "metadata": {},
   "source": [
    "### Graphical Representation\n",
    "\n",
    "🧩 Implement a function `draw_wheelchair` with arguments `x`, `y` and `theta` that draws a simple geometric model of the wheelchair (with seat and fixed wheels) in the plane (top view) for arbitrary values of $(x, y)$ and $\\theta$. \n",
    "\n",
    "🗝️ **Hint.** Use the function `plot` of `matplotlib.pyplot`."
   ]
  },
  {
   "cell_type": "code",
   "execution_count": 3,
   "metadata": {},
   "outputs": [],
   "source": [
    "def draw_wheelchair(x, y, theta, ax):\n",
    "    \n",
    "    # theta en rad     \n",
    "    seat_corners = array([\n",
    "        [x - L/2, y ],\n",
    "        [x + L/2, y ],\n",
    "        [x + L/2, y + L],\n",
    "        [x - L/2, y + L],\n",
    "    ])    \n",
    "    \n",
    "    #seat\n",
    "    square = Polygon(seat_corners)\n",
    "    ax.add_patch(square)\n",
    "    \n",
    "    transf = Affine2D().rotate_around(x, y, theta - pi/2)\n",
    "    square.set_transform(transf + ax.transData)\n",
    "    \n",
    "\n",
    "    rot_matrix = array([\n",
    "    [cos(theta - pi/2), -sin(theta - pi/2)],\n",
    "    [sin(theta - pi/2), cos(theta - pi/2)]\n",
    "])\n",
    "    \n",
    "    #wheel1\n",
    "    x1_1 = x - L/2 \n",
    "    y1_1 = y - R_w\n",
    "    \n",
    "    x2_1 = x - L/2\n",
    "    y2_1 = y + R_w\n",
    "    \n",
    "    x1r_1 , y1r_1 = (rot_matrix.dot(array([x1_1 - x, y1_1 - y]))).T + (x, y)\n",
    "    x2r_1 , y2r_1 = (rot_matrix.dot(array([x2_1 - x, y2_1 - y]))).T + (x, y)\n",
    "        \n",
    "    ax.plot([x1r_1, x2r_1], [y1r_1, y2r_1], linewidth = 5, color = 'black')\n",
    "    \n",
    "    #wheel2\n",
    "    x1_2 = x + L/2\n",
    "    y1_2 = y - R_w\n",
    "    \n",
    "    x2_2 = x + L/2\n",
    "    y2_2 = y + R_w\n",
    "    \n",
    "    \n",
    "    x1r_2 , y1r_2 = (rot_matrix.dot(array([x1_2 - x, y1_2 - y]))).T + (x, y)\n",
    "    x2r_2 , y2r_2 = (rot_matrix.dot(array([x2_2 - x, y2_2 - y]))).T + (x, y)\n",
    "        \n",
    "    ax.plot([x1r_2, x2r_2], [y1r_2, y2r_2], linewidth = 5, color = 'black')"
   ]
  },
  {
   "cell_type": "markdown",
   "metadata": {},
   "source": [
    "🧩 Represent the wheelchair when $(x, y, \\theta) = (0, 0, 0), (2, 2, \\pi/2), (0, 4, \\pi), (-2, 2, 3\\pi/2)$.\n",
    "\n",
    "🗝️ **Hint.** Use the following `draw_arena` function beforehand."
   ]
  },
  {
   "cell_type": "code",
   "execution_count": 4,
   "metadata": {},
   "outputs": [],
   "source": [
    "def draw_arena(xmin, xmax, ymin, ymax):\n",
    "    wh_ratio = (xmax - xmin) / (ymax - ymin)\n",
    "    figsize = fig_width, fig_height = 10, 10 / wh_ratio\n",
    "    figure(figsize=figsize)\n",
    "    ax = gca()\n",
    "    ax.axis([xmin, xmax, ymin, ymax])\n",
    "    ax.set_aspect(1)\n",
    "    xticks(arange(xmin, xmax+1, 1))\n",
    "    yticks(arange(ymin, ymax+1, 1))\n",
    "    grid(True)\n",
    "    return ax"
   ]
  },
  {
   "cell_type": "code",
   "execution_count": 5,
   "metadata": {},
   "outputs": [
    {
     "data": {
      "image/png": "[encoded data removed]",
      "text/plain": [
       "<Figure size 1000x600 with 1 Axes>"
      ]
     },
     "metadata": {},
     "output_type": "display_data"
    }
   ],
   "source": [
    "ax = draw_arena(-5, 5, -1,5)\n",
    "draw_wheelchair(0, 0, 0, ax)\n",
    "draw_wheelchair(2, 2, pi/2, ax)\n",
    "draw_wheelchair(0, 4, pi, ax)\n",
    "draw_wheelchair(-2, 2, 3*pi/2, ax)"
   ]
  },
  {
   "cell_type": "markdown",
   "metadata": {},
   "source": [
    "### Kinematic Modeling\n",
    "\n",
    "We assume that we can control the wheels angular velocities $\\omega_l = \\dot{\\phi}_l$ and $\\omega_r = \\dot{\\phi}_r$ (this is a *kinematic* model of the wheelchair).\n",
    "We also assume that the wheelchair fixed wheels roll without slipping. \n",
    "\n",
    "🧩 Establish the differential equations that relate $\\dot{x}$,\n",
    "$\\dot{y}$ and $\\dot{\\theta}$ with $\\omega_l$ and $\\omega_r$."
   ]
  },
  {
   "cell_type": "markdown",
   "metadata": {},
   "source": [
    "**Answer:**\n",
    "\n",
    "La condition de roulement sans glissement appliquée aux deux roues donne :\\\n",
    "    $$\\vec{v}(O_r) = R_{\\omega}\\omega_r\\vec{e}_\\theta$$ et $$\\vec{v}(O_l) = R_{\\omega}\\omega_l\\vec{e}_\\theta$$ \\\n",
    "Avec $O_r$ et $O_l$ respectivement les centres des roues droite et gauche "
   ]
  },
  {
   "cell_type": "markdown",
   "metadata": {},
   "source": [
    "D'autre part, la vitesse du point G (centre de l'axe communs des roues) peut s'écrire de deux manières : \\\n",
    "$$\\vec{v}_G = \\vec{v}_{O_r} + \\vec{GO_r} \\wedge \\dot{\\theta} \\times\\vec{e}_z $$  (1) \n",
    "$$\\vec{v}_G = \\vec{v}_{O_l} + \\vec{GO_l} \\wedge \\dot{\\theta} \\times\\vec{e}_z $$  (2)   \n",
    "Ce qui donne : $$\\vec{v}_G = \\frac{1}{2}(\\vec{v}_{O_r} + \\vec{v}_{O_l})$$\\\n",
    "Finalement : \\\n",
    "$$\\dot{x} = -\\frac{1}{2}R(\\omega_l + \\omega_r)\\cos{\\theta}$$\n",
    "$$\\dot{y} = \\frac{1}{2}R(\\omega_l + \\omega_r)\\sin{\\theta}$$\\\n",
    "On fait la différence entre les deux equations (1) et (2) et on projettant la relation vectorielle obtenue on obtient l'équation dfférentielle de $\\theta$ suivante :\\\n",
    "$$\\dot{\\theta} = \\frac{1}{L}(v_{O_l} - v_{O_r})$$\\\n",
    "D'où : $$\\dot{\\theta} = \\frac{R_\\omega}{L}(\\omega_{l} - \\omega_{r})$$\n",
    "\n",
    "<span style=color:red>**Erreur de signe sur $\\dot{x}$** </span>"
   ]
  },
  {
   "cell_type": "markdown",
   "metadata": {},
   "source": [
    "### Analysis\n",
    "\n",
    "🧩 Show that if $\\omega_l$ and $\\omega_r$ are continuously differentiable functions of $(x, y, \\theta)$ (which includes the case of constant inputs), this system is well-posed."
   ]
  },
  {
   "cell_type": "markdown",
   "metadata": {},
   "source": [
    "**Answer:**"
   ]
  },
  {
   "cell_type": "markdown",
   "metadata": {},
   "source": [
    "🧩 Show that if $\\omega_l$ and $\\omega_r$ are constants, the maximal solution associated to any initial state is global. Is is still true of $\\omega_l$ and $\\omega_r$ are arbitrary continuously differentiable functions of $(x, y, \\theta)$ ?"
   ]
  },
  {
   "cell_type": "markdown",
   "metadata": {},
   "source": [
    "**Answer:**"
   ]
  },
  {
   "cell_type": "markdown",
   "metadata": {},
   "source": [
    "### Vector Field\n",
    "\n",
    "In the sequel, `omega` is a function that computes the input vector $\\omega := (\\omega_l, \\omega_r)$ given the time $t$ and $(x, y, \\theta)$ (thus, it may depend on the time and/or on the system state if needed). For example:"
   ]
  },
  {
   "cell_type": "code",
   "execution_count": 6,
   "metadata": {},
   "outputs": [],
   "source": [
    "def omega(t, xytheta):\n",
    "    omega_l = (1 - L/4) * pi / Rw\n",
    "    omega_r = (1 + L/4) * pi / Rw\n",
    "    return array([omega_l, omega_r])"
   ]
  },
  {
   "cell_type": "markdown",
   "metadata": {},
   "source": [
    "🧩 Implement a function `fun(t, xytheta)` that computes $(\\dot{x}, \\dot{y}, \\dot{\\theta})$ given the time $t$ and $(x,y,\\theta)$ (and implicitly the inputs $\\omega$ computed by the function `omega`).\n",
    "\n",
    "<span style=color:red>**La défintion de `fun` est cohérente avec l'erreur de signe dans la partie théorique. Par contre, vous avez une erreur à l'exécution due à votre utilisation de `R_w` alors que le code fourni pour `omega` respecte bien la convention demandée initialement...**</span>"
   ]
  },
  {
   "cell_type": "code",
   "execution_count": 7,
   "metadata": {},
   "outputs": [],
   "source": [
    "def fun(t, xytheta):\n",
    "    x, y, theta = xytheta\n",
    "    om = omega(t, xytheta)\n",
    "    x_point = -1/2*R_w*(om[0] + om[1])*cos(theta)\n",
    "    y_point = 1/2*R_w*(om[0] + om[1])*sin(theta)\n",
    "    theta_point = R_w/L*(om[0] - om[1])\n",
    "    \n",
    "    return x_point, y_point, theta_point"
   ]
  },
  {
   "cell_type": "code",
   "execution_count": 8,
   "metadata": {},
   "outputs": [
    {
     "ename": "NameError",
     "evalue": "name 'Rw' is not defined",
     "output_type": "error",
     "traceback": [
      "\u001b[0;31m---------------------------------------------------------------------------\u001b[0m",
      "\u001b[0;31mNameError\u001b[0m                                 Traceback (most recent call last)",
      "Cell \u001b[0;32mIn[8], line 1\u001b[0m\n\u001b[0;32m----> 1\u001b[0m \u001b[43mfun\u001b[49m\u001b[43m(\u001b[49m\u001b[38;5;241;43m1\u001b[39;49m\u001b[43m,\u001b[49m\u001b[43m \u001b[49m\u001b[43m(\u001b[49m\u001b[38;5;241;43m2\u001b[39;49m\u001b[43m,\u001b[49m\u001b[43m \u001b[49m\u001b[38;5;241;43m2\u001b[39;49m\u001b[43m,\u001b[49m\u001b[43m \u001b[49m\u001b[43mpi\u001b[49m\u001b[43m)\u001b[49m\u001b[43m)\u001b[49m\n",
      "Cell \u001b[0;32mIn[7], line 3\u001b[0m, in \u001b[0;36mfun\u001b[0;34m(t, xytheta)\u001b[0m\n\u001b[1;32m      1\u001b[0m \u001b[38;5;28;01mdef\u001b[39;00m \u001b[38;5;21mfun\u001b[39m(t, xytheta):\n\u001b[1;32m      2\u001b[0m     x, y, theta \u001b[38;5;241m=\u001b[39m xytheta\n\u001b[0;32m----> 3\u001b[0m     om \u001b[38;5;241m=\u001b[39m \u001b[43momega\u001b[49m\u001b[43m(\u001b[49m\u001b[43mt\u001b[49m\u001b[43m,\u001b[49m\u001b[43m \u001b[49m\u001b[43mxytheta\u001b[49m\u001b[43m)\u001b[49m\n\u001b[1;32m      4\u001b[0m     x_point \u001b[38;5;241m=\u001b[39m \u001b[38;5;241m-\u001b[39m\u001b[38;5;241m1\u001b[39m\u001b[38;5;241m/\u001b[39m\u001b[38;5;241m2\u001b[39m\u001b[38;5;241m*\u001b[39mR_w\u001b[38;5;241m*\u001b[39m(om[\u001b[38;5;241m0\u001b[39m] \u001b[38;5;241m+\u001b[39m om[\u001b[38;5;241m1\u001b[39m])\u001b[38;5;241m*\u001b[39mcos(theta)\n\u001b[1;32m      5\u001b[0m     y_point \u001b[38;5;241m=\u001b[39m \u001b[38;5;241m1\u001b[39m\u001b[38;5;241m/\u001b[39m\u001b[38;5;241m2\u001b[39m\u001b[38;5;241m*\u001b[39mR_w\u001b[38;5;241m*\u001b[39m(om[\u001b[38;5;241m0\u001b[39m] \u001b[38;5;241m+\u001b[39m om[\u001b[38;5;241m1\u001b[39m])\u001b[38;5;241m*\u001b[39msin(theta)\n",
      "Cell \u001b[0;32mIn[6], line 2\u001b[0m, in \u001b[0;36momega\u001b[0;34m(t, xytheta)\u001b[0m\n\u001b[1;32m      1\u001b[0m \u001b[38;5;28;01mdef\u001b[39;00m \u001b[38;5;21momega\u001b[39m(t, xytheta):\n\u001b[0;32m----> 2\u001b[0m     omega_l \u001b[38;5;241m=\u001b[39m (\u001b[38;5;241m1\u001b[39m \u001b[38;5;241m-\u001b[39m L\u001b[38;5;241m/\u001b[39m\u001b[38;5;241m4\u001b[39m) \u001b[38;5;241m*\u001b[39m pi \u001b[38;5;241m/\u001b[39m \u001b[43mRw\u001b[49m\n\u001b[1;32m      3\u001b[0m     omega_r \u001b[38;5;241m=\u001b[39m (\u001b[38;5;241m1\u001b[39m \u001b[38;5;241m+\u001b[39m L\u001b[38;5;241m/\u001b[39m\u001b[38;5;241m4\u001b[39m) \u001b[38;5;241m*\u001b[39m pi \u001b[38;5;241m/\u001b[39m Rw\n\u001b[1;32m      4\u001b[0m     \u001b[38;5;28;01mreturn\u001b[39;00m array([omega_l, omega_r])\n",
      "\u001b[0;31mNameError\u001b[0m: name 'Rw' is not defined"
     ]
    }
   ],
   "source": [
    "fun(1, (2, 2, pi))"
   ]
  },
  {
   "cell_type": "markdown",
   "metadata": {},
   "source": [
    "### Simulation Setup\n",
    "\n",
    "🧩 Simulate the wheelchair dynamics for 4 seconds when $(x_0, y_0, \\theta_0)(t=0) = (0.0, 0.0, 0.0)$,\n",
    "and the wheels velocities are the constants $\\omega_l = (1 - L/4)  \\pi / R \\mbox{ rad/s}$ and $\\omega_r = (1 + L/4)  \\pi / R_w \\mbox{ rad/s}$.\n",
    "(Compute the dense outputs.)\n",
    "   "
   ]
  },
  {
   "cell_type": "code",
   "execution_count": null,
   "metadata": {},
   "outputs": [],
   "source": [
    "pass"
   ]
  },
  {
   "cell_type": "markdown",
   "metadata": {},
   "source": [
    "🧩 Use the simulation results to draw the graphs of $x(t)$, $y(t)$ and $\\theta(t)$."
   ]
  },
  {
   "cell_type": "code",
   "execution_count": null,
   "metadata": {},
   "outputs": [],
   "source": [
    "pass"
   ]
  },
  {
   "cell_type": "markdown",
   "metadata": {},
   "source": [
    "🧩 Use the simulation results to display the robot location every 0.5 second."
   ]
  },
  {
   "cell_type": "code",
   "execution_count": null,
   "metadata": {},
   "outputs": [],
   "source": [
    "pass"
   ]
  },
  {
   "cell_type": "markdown",
   "metadata": {},
   "source": [
    "🧩 What should be the analytical expression of $x(t)$, $y(t)$ and $\\theta(t)$? "
   ]
  },
  {
   "cell_type": "markdown",
   "metadata": {},
   "source": [
    "**Answer:**"
   ]
  },
  {
   "cell_type": "markdown",
   "metadata": {},
   "source": [
    "🧩 Do you experimental results match the theoretical results ? Draw the curves of the simulation error at time $t$ for $x$, $y$ and $\\theta$."
   ]
  },
  {
   "cell_type": "code",
   "execution_count": null,
   "metadata": {},
   "outputs": [],
   "source": [
    "pass"
   ]
  },
  {
   "cell_type": "markdown",
   "metadata": {},
   "source": [
    "🧩 If needed, adjust the simulation parameters until this error is uniformly less than $2 \\times 10^{-5}$ for every component of $(x, y, \\theta)$."
   ]
  },
  {
   "cell_type": "code",
   "execution_count": null,
   "metadata": {},
   "outputs": [],
   "source": [
    "pass"
   ]
  }
 ],
 "metadata": {
  "kernelspec": {
   "display_name": "Python 3 (ipykernel)",
   "language": "python",
   "name": "python3"
  },
  "language_info": {
   "codemirror_mode": {
    "name": "ipython",
    "version": 3
   },
   "file_extension": ".py",
   "mimetype": "text/x-python",
   "name": "python",
   "nbconvert_exporter": "python",
   "pygments_lexer": "ipython3",
   "version": "3.9.16"
  }
 },
 "nbformat": 4,
 "nbformat_minor": 4
}
